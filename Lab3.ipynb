{
 "cells": [
  {
   "cell_type": "code",
   "execution_count": 1,
   "metadata": {},
   "outputs": [],
   "source": [
    "\n",
    "from sklearn.model_selection import train_test_split\n",
    "from sklearn import svm\n",
    "import pandas as pd\n",
    "from sklearn import preprocessing\n",
    "import os\n",
    "import json\n",
    "import numpy as np\n",
    "from pandas.io.json import json_normalize\n",
    "import numpy as np\n",
    "from sklearn import linear_model\n",
    "from sklearn.ensemble import RandomForestClassifier\n",
    "from sklearn.ensemble import GradientBoostingRegressor\n",
    "from sklearn.model_selection import cross_val_score\n",
    "import matplotlib.pyplot as plt"
   ]
  },
  {
   "cell_type": "code",
   "execution_count": 2,
   "metadata": {},
   "outputs": [],
   "source": [
    "def load_df(csv_path='train.csv', nrows=None):\n",
    "    JSON_COLUMNS = ['device', 'geoNetwork', 'totals', 'trafficSource']\n",
    "    \n",
    "    df = pd.read_csv(csv_path, \n",
    "                     converters={column: json.loads for column in JSON_COLUMNS}, \n",
    "                     dtype={'fullVisitorId': 'str'},\n",
    "                     nrows=nrows)\n",
    "    \n",
    "    for column in JSON_COLUMNS:\n",
    "        column_as_df = json_normalize(df[column])\n",
    "        column_as_df.columns = [f\"{column}.{subcolumn}\" for subcolumn in column_as_df.columns]\n",
    "        df = df.drop(column, axis=1).merge(column_as_df, right_index=True, left_index=True)\n",
    "    print(f\"Loaded {os.path.basename(csv_path)}. Shape: {df.shape}\")\n",
    "    return df"
   ]
  },
  {
   "cell_type": "code",
   "execution_count": 3,
   "metadata": {},
   "outputs": [
    {
     "name": "stderr",
     "output_type": "stream",
     "text": [
      "C:\\ProgramData\\Anaconda3\\lib\\site-packages\\ipykernel_launcher.py:10: FutureWarning: pandas.io.json.json_normalize is deprecated, use pandas.json_normalize instead\n",
      "  # Remove the CWD from sys.path while we load stuff.\n"
     ]
    },
    {
     "name": "stdout",
     "output_type": "stream",
     "text": [
      "Loaded train.csv. Shape: (10000, 54)\n"
     ]
    }
   ],
   "source": [
    "df_small = load_df(nrows=10000)"
   ]
  },
  {
   "cell_type": "code",
   "execution_count": 4,
   "metadata": {},
   "outputs": [],
   "source": [
    "df_small.to_csv(\"train-small-flattened.csv\", index=False)"
   ]
  },
  {
   "cell_type": "code",
   "execution_count": 5,
   "metadata": {},
   "outputs": [],
   "source": [
    "data = pd.read_csv('train-small-flattened.csv', sep=',')"
   ]
  },
  {
   "cell_type": "code",
   "execution_count": 6,
   "metadata": {},
   "outputs": [
    {
     "data": {
      "text/plain": [
       "['channelGrouping',\n",
       " 'date',\n",
       " 'fullVisitorId',\n",
       " 'sessionId',\n",
       " 'socialEngagementType',\n",
       " 'visitId',\n",
       " 'visitNumber',\n",
       " 'visitStartTime',\n",
       " 'device.browser',\n",
       " 'device.browserVersion',\n",
       " 'device.browserSize',\n",
       " 'device.operatingSystem',\n",
       " 'device.operatingSystemVersion',\n",
       " 'device.isMobile',\n",
       " 'device.mobileDeviceBranding',\n",
       " 'device.mobileDeviceModel',\n",
       " 'device.mobileInputSelector',\n",
       " 'device.mobileDeviceInfo',\n",
       " 'device.mobileDeviceMarketingName',\n",
       " 'device.flashVersion',\n",
       " 'device.language',\n",
       " 'device.screenColors',\n",
       " 'device.screenResolution',\n",
       " 'device.deviceCategory',\n",
       " 'geoNetwork.continent',\n",
       " 'geoNetwork.subContinent',\n",
       " 'geoNetwork.country',\n",
       " 'geoNetwork.region',\n",
       " 'geoNetwork.metro',\n",
       " 'geoNetwork.city',\n",
       " 'geoNetwork.cityId',\n",
       " 'geoNetwork.networkDomain',\n",
       " 'geoNetwork.latitude',\n",
       " 'geoNetwork.longitude',\n",
       " 'geoNetwork.networkLocation',\n",
       " 'totals.visits',\n",
       " 'totals.hits',\n",
       " 'totals.pageviews',\n",
       " 'totals.bounces',\n",
       " 'totals.newVisits',\n",
       " 'totals.transactionRevenue',\n",
       " 'trafficSource.campaign',\n",
       " 'trafficSource.source',\n",
       " 'trafficSource.medium',\n",
       " 'trafficSource.keyword',\n",
       " 'trafficSource.adwordsClickInfo.criteriaParameters',\n",
       " 'trafficSource.isTrueDirect',\n",
       " 'trafficSource.referralPath',\n",
       " 'trafficSource.adwordsClickInfo.page',\n",
       " 'trafficSource.adwordsClickInfo.slot',\n",
       " 'trafficSource.adwordsClickInfo.gclId',\n",
       " 'trafficSource.adwordsClickInfo.adNetworkType',\n",
       " 'trafficSource.adwordsClickInfo.isVideoAd',\n",
       " 'trafficSource.adContent']"
      ]
     },
     "execution_count": 6,
     "metadata": {},
     "output_type": "execute_result"
    }
   ],
   "source": [
    "list(data)"
   ]
  },
  {
   "cell_type": "code",
   "execution_count": 7,
   "metadata": {},
   "outputs": [
    {
     "name": "stdout",
     "output_type": "stream",
     "text": [
      "      totals.visits  totals.hits  totals.transactionRevenue  \\\n",
      "0                 1            1                        NaN   \n",
      "1                 1            1                        NaN   \n",
      "2                 1            1                        NaN   \n",
      "3                 1            1                        NaN   \n",
      "4                 1            1                        NaN   \n",
      "...             ...          ...                        ...   \n",
      "9995              1            4                        NaN   \n",
      "9996              1            4                        NaN   \n",
      "9997              1            4                        NaN   \n",
      "9998              1            4                        NaN   \n",
      "9999              1            4                        NaN   \n",
      "\n",
      "     geoNetwork.country device.operatingSystem  visitNumber  totals.pageviews  \\\n",
      "0                Turkey                Windows            1                 1   \n",
      "1             Australia              Macintosh            1                 1   \n",
      "2                 Spain                Windows            1                 1   \n",
      "3             Indonesia                  Linux            1                 1   \n",
      "4        United Kingdom                Android            2                 1   \n",
      "...                 ...                    ...          ...               ...   \n",
      "9995            Croatia                Windows            1                 4   \n",
      "9996      United States              Macintosh            1                 3   \n",
      "9997              India                Windows            1                 4   \n",
      "9998      United States              Macintosh            1                 4   \n",
      "9999            Hungary                Windows            2                 4   \n",
      "\n",
      "      socialEngagementType  totals.newVisits  \n",
      "0     Not Socially Engaged               1.0  \n",
      "1     Not Socially Engaged               1.0  \n",
      "2     Not Socially Engaged               1.0  \n",
      "3     Not Socially Engaged               1.0  \n",
      "4     Not Socially Engaged               NaN  \n",
      "...                    ...               ...  \n",
      "9995  Not Socially Engaged               1.0  \n",
      "9996  Not Socially Engaged               1.0  \n",
      "9997  Not Socially Engaged               1.0  \n",
      "9998  Not Socially Engaged               1.0  \n",
      "9999  Not Socially Engaged               NaN  \n",
      "\n",
      "[10000 rows x 9 columns]\n"
     ]
    }
   ],
   "source": [
    "new_data=data[['totals.visits','totals.hits','totals.transactionRevenue','geoNetwork.country',\n",
    "              'device.operatingSystem','visitNumber','totals.pageviews','socialEngagementType','totals.newVisits']].copy()\n",
    "print(new_data)"
   ]
  },
  {
   "cell_type": "code",
   "execution_count": 8,
   "metadata": {},
   "outputs": [],
   "source": [
    "new_data=new_data.replace(np.nan,0)"
   ]
  },
  {
   "cell_type": "code",
   "execution_count": 9,
   "metadata": {},
   "outputs": [
    {
     "name": "stderr",
     "output_type": "stream",
     "text": [
      "C:\\ProgramData\\Anaconda3\\lib\\site-packages\\pandas\\core\\series.py:679: RuntimeWarning: divide by zero encountered in log\n",
      "  result = getattr(ufunc, method)(*inputs, **kwargs)\n"
     ]
    }
   ],
   "source": [
    "\n",
    "le = preprocessing.LabelEncoder()\n",
    "y=np.log(new_data['totals.transactionRevenue'])\n",
    "y = le.fit_transform(y)"
   ]
  },
  {
   "cell_type": "code",
   "execution_count": 10,
   "metadata": {},
   "outputs": [
    {
     "data": {
      "text/html": [
       "<div>\n",
       "<style scoped>\n",
       "    .dataframe tbody tr th:only-of-type {\n",
       "        vertical-align: middle;\n",
       "    }\n",
       "\n",
       "    .dataframe tbody tr th {\n",
       "        vertical-align: top;\n",
       "    }\n",
       "\n",
       "    .dataframe thead th {\n",
       "        text-align: right;\n",
       "    }\n",
       "</style>\n",
       "<table border=\"1\" class=\"dataframe\">\n",
       "  <thead>\n",
       "    <tr style=\"text-align: right;\">\n",
       "      <th></th>\n",
       "      <th>totals.visits</th>\n",
       "      <th>totals.hits</th>\n",
       "      <th>totals.transactionRevenue</th>\n",
       "      <th>geoNetwork.country</th>\n",
       "      <th>device.operatingSystem</th>\n",
       "      <th>visitNumber</th>\n",
       "      <th>totals.pageviews</th>\n",
       "      <th>socialEngagementType</th>\n",
       "      <th>totals.newVisits</th>\n",
       "    </tr>\n",
       "  </thead>\n",
       "  <tbody>\n",
       "    <tr>\n",
       "      <th>count</th>\n",
       "      <td>10000.0</td>\n",
       "      <td>10000.000000</td>\n",
       "      <td>1.000000e+04</td>\n",
       "      <td>10000.00000</td>\n",
       "      <td>10000.000000</td>\n",
       "      <td>10000.000000</td>\n",
       "      <td>10000.00000</td>\n",
       "      <td>10000.0</td>\n",
       "      <td>10000.000000</td>\n",
       "    </tr>\n",
       "    <tr>\n",
       "      <th>mean</th>\n",
       "      <td>1.0</td>\n",
       "      <td>4.224900</td>\n",
       "      <td>1.065414e+06</td>\n",
       "      <td>96.54930</td>\n",
       "      <td>7.089000</td>\n",
       "      <td>2.167300</td>\n",
       "      <td>3.55770</td>\n",
       "      <td>0.0</td>\n",
       "      <td>0.770100</td>\n",
       "    </tr>\n",
       "    <tr>\n",
       "      <th>std</th>\n",
       "      <td>0.0</td>\n",
       "      <td>8.505819</td>\n",
       "      <td>1.991012e+07</td>\n",
       "      <td>43.48423</td>\n",
       "      <td>3.375088</td>\n",
       "      <td>7.862283</td>\n",
       "      <td>6.21121</td>\n",
       "      <td>0.0</td>\n",
       "      <td>0.420789</td>\n",
       "    </tr>\n",
       "    <tr>\n",
       "      <th>min</th>\n",
       "      <td>1.0</td>\n",
       "      <td>1.000000</td>\n",
       "      <td>0.000000e+00</td>\n",
       "      <td>0.00000</td>\n",
       "      <td>0.000000</td>\n",
       "      <td>1.000000</td>\n",
       "      <td>1.00000</td>\n",
       "      <td>0.0</td>\n",
       "      <td>0.000000</td>\n",
       "    </tr>\n",
       "    <tr>\n",
       "      <th>25%</th>\n",
       "      <td>1.0</td>\n",
       "      <td>1.000000</td>\n",
       "      <td>0.000000e+00</td>\n",
       "      <td>53.00000</td>\n",
       "      <td>6.000000</td>\n",
       "      <td>1.000000</td>\n",
       "      <td>1.00000</td>\n",
       "      <td>0.0</td>\n",
       "      <td>1.000000</td>\n",
       "    </tr>\n",
       "    <tr>\n",
       "      <th>50%</th>\n",
       "      <td>1.0</td>\n",
       "      <td>1.000000</td>\n",
       "      <td>0.000000e+00</td>\n",
       "      <td>126.00000</td>\n",
       "      <td>9.000000</td>\n",
       "      <td>1.000000</td>\n",
       "      <td>1.00000</td>\n",
       "      <td>0.0</td>\n",
       "      <td>1.000000</td>\n",
       "    </tr>\n",
       "    <tr>\n",
       "      <th>75%</th>\n",
       "      <td>1.0</td>\n",
       "      <td>3.000000</td>\n",
       "      <td>0.000000e+00</td>\n",
       "      <td>132.00000</td>\n",
       "      <td>9.000000</td>\n",
       "      <td>1.000000</td>\n",
       "      <td>3.00000</td>\n",
       "      <td>0.0</td>\n",
       "      <td>1.000000</td>\n",
       "    </tr>\n",
       "    <tr>\n",
       "      <th>max</th>\n",
       "      <td>1.0</td>\n",
       "      <td>189.000000</td>\n",
       "      <td>1.077000e+09</td>\n",
       "      <td>137.00000</td>\n",
       "      <td>12.000000</td>\n",
       "      <td>317.000000</td>\n",
       "      <td>138.00000</td>\n",
       "      <td>0.0</td>\n",
       "      <td>1.000000</td>\n",
       "    </tr>\n",
       "  </tbody>\n",
       "</table>\n",
       "</div>"
      ],
      "text/plain": [
       "       totals.visits   totals.hits  totals.transactionRevenue  \\\n",
       "count        10000.0  10000.000000               1.000000e+04   \n",
       "mean             1.0      4.224900               1.065414e+06   \n",
       "std              0.0      8.505819               1.991012e+07   \n",
       "min              1.0      1.000000               0.000000e+00   \n",
       "25%              1.0      1.000000               0.000000e+00   \n",
       "50%              1.0      1.000000               0.000000e+00   \n",
       "75%              1.0      3.000000               0.000000e+00   \n",
       "max              1.0    189.000000               1.077000e+09   \n",
       "\n",
       "       geoNetwork.country  device.operatingSystem   visitNumber  \\\n",
       "count         10000.00000            10000.000000  10000.000000   \n",
       "mean             96.54930                7.089000      2.167300   \n",
       "std              43.48423                3.375088      7.862283   \n",
       "min               0.00000                0.000000      1.000000   \n",
       "25%              53.00000                6.000000      1.000000   \n",
       "50%             126.00000                9.000000      1.000000   \n",
       "75%             132.00000                9.000000      1.000000   \n",
       "max             137.00000               12.000000    317.000000   \n",
       "\n",
       "       totals.pageviews  socialEngagementType  totals.newVisits  \n",
       "count       10000.00000               10000.0      10000.000000  \n",
       "mean            3.55770                   0.0          0.770100  \n",
       "std             6.21121                   0.0          0.420789  \n",
       "min             1.00000                   0.0          0.000000  \n",
       "25%             1.00000                   0.0          1.000000  \n",
       "50%             1.00000                   0.0          1.000000  \n",
       "75%             3.00000                   0.0          1.000000  \n",
       "max           138.00000                   0.0          1.000000  "
      ]
     },
     "execution_count": 10,
     "metadata": {},
     "output_type": "execute_result"
    }
   ],
   "source": [
    "new_data['geoNetwork.country'] = le.fit_transform(new_data['geoNetwork.country'])\n",
    "new_data['device.operatingSystem'] = le.fit_transform(new_data['device.operatingSystem'])\n",
    "new_data['socialEngagementType'] = le.fit_transform(new_data['socialEngagementType'])\n",
    "new_data.describe()"
   ]
  },
  {
   "cell_type": "code",
   "execution_count": 11,
   "metadata": {},
   "outputs": [],
   "source": [
    "X_train, X_test, y_train, y_test = train_test_split(new_data, y, test_size=0.2)"
   ]
  },
  {
   "cell_type": "code",
   "execution_count": 42,
   "metadata": {},
   "outputs": [
    {
     "name": "stdout",
     "output_type": "stream",
     "text": [
      "0.9925\n"
     ]
    }
   ],
   "source": [
    "modelSVM = svm.SVC(kernel='linear', C=100, gamma=10) \n",
    "modelSVM.fit(X_train, y_train)\n",
    "modelSVM.score(X_train, y_train)\n",
    "predictSVM = modelSVM.predict(X_test)\n",
    "scoreSVM = modelSVM.score(X_test, y_test)\n",
    "print(scoreSVM)"
   ]
  },
  {
   "cell_type": "code",
   "execution_count": 43,
   "metadata": {},
   "outputs": [
    {
     "name": "stdout",
     "output_type": "stream",
     "text": [
      "0.7252745648409481\n"
     ]
    }
   ],
   "source": [
    "modelRegr = linear_model.LinearRegression()\n",
    "modelRegr.fit(X_train, y_train)\n",
    "modelRegr.score(X_train, y_train)\n",
    "predictRegr = modelRegr.predict(X_test)\n",
    "scoreRegr = modelRegr.score(X_test, y_test)\n",
    "print(scoreRegr)"
   ]
  },
  {
   "cell_type": "code",
   "execution_count": 44,
   "metadata": {},
   "outputs": [
    {
     "name": "stdout",
     "output_type": "stream",
     "text": [
      "0.9915\n"
     ]
    }
   ],
   "source": [
    "modelRanFor = RandomForestClassifier(n_estimators=100, bootstrap = True, max_features = 'sqrt')\n",
    "modelRanFor.fit(X_train, y_train)\n",
    "modelRanFor.score(X_train, y_train)\n",
    "predictRanFor = modelRanFor.predict(X_test)\n",
    "scoreRanFor = modelRanFor.score(X_test, y_test)\n",
    "print(scoreRanFor)"
   ]
  },
  {
   "cell_type": "code",
   "execution_count": 45,
   "metadata": {},
   "outputs": [
    {
     "name": "stdout",
     "output_type": "stream",
     "text": [
      "0.9996491570482611\n"
     ]
    }
   ],
   "source": [
    "modelGBM = GradientBoostingRegressor(n_estimators=500, max_depth=4)\n",
    "modelGBM.fit(X_train, y_train)\n",
    "modelGBM.score(X_train, y_train)\n",
    "predictGBM = modelGBM.predict(X_test)\n",
    "scoreGBM = modelGBM.score(X_test, y_test)\n",
    "print(scoreGBM)"
   ]
  },
  {
   "cell_type": "code",
   "execution_count": 46,
   "metadata": {},
   "outputs": [
    {
     "data": {
      "image/png": "[encoded data removed]",
      "text/plain": [
       "<Figure size 432x288 with 1 Axes>"
      ]
     },
     "metadata": {
      "needs_background": "light"
     },
     "output_type": "display_data"
    }
   ],
   "source": [
    "fig, ax = plt.subplots()\n",
    "Data = [scoreSVM, scoreRegr, scoreRanFor, scoreGBM]\n",
    "ax.set_title('Качество моделей')\n",
    "ax.boxplot(Data)\n",
    "plt.show()"
   ]
  },
  {
   "cell_type": "code",
   "execution_count": 47,
   "metadata": {},
   "outputs": [
    {
     "name": "stdout",
     "output_type": "stream",
     "text": [
      "0.9915\n"
     ]
    },
    {
     "name": "stderr",
     "output_type": "stream",
     "text": [
      "C:\\ProgramData\\Anaconda3\\lib\\site-packages\\sklearn\\model_selection\\_split.py:667: UserWarning: The least populated class in y has only 1 members, which is less than n_splits=5.\n",
      "  % (min_groups, self.n_splits)), UserWarning)\n"
     ]
    }
   ],
   "source": [
    "cvscoreSVM = cross_val_score(modelSVM, X_test, y_test, cv=None).mean()\n",
    "print(cvscoreSVM)"
   ]
  },
  {
   "cell_type": "code",
   "execution_count": 48,
   "metadata": {},
   "outputs": [
    {
     "name": "stdout",
     "output_type": "stream",
     "text": [
      "0.37470663287701694\n"
     ]
    }
   ],
   "source": [
    "cvscoreRegr = cross_val_score(modelRegr, X_test, y_test, cv=None).mean()\n",
    "print(cvscoreRegr)"
   ]
  },
  {
   "cell_type": "code",
   "execution_count": 49,
   "metadata": {},
   "outputs": [
    {
     "name": "stderr",
     "output_type": "stream",
     "text": [
      "C:\\ProgramData\\Anaconda3\\lib\\site-packages\\sklearn\\model_selection\\_split.py:667: UserWarning: The least populated class in y has only 1 members, which is less than n_splits=5.\n",
      "  % (min_groups, self.n_splits)), UserWarning)\n"
     ]
    },
    {
     "name": "stdout",
     "output_type": "stream",
     "text": [
      "0.9915\n"
     ]
    }
   ],
   "source": [
    "cvscoreRanFor = cross_val_score(modelRanFor, X_test, y_test, cv=None).mean()\n",
    "print(cvscoreRanFor)"
   ]
  },
  {
   "cell_type": "code",
   "execution_count": 50,
   "metadata": {},
   "outputs": [
    {
     "name": "stdout",
     "output_type": "stream",
     "text": [
      "0.9620896816752145\n"
     ]
    }
   ],
   "source": [
    "cvscoreGBM = cross_val_score(modelGBM, X_test, y_test, cv=None).mean()\n",
    "print(cvscoreGBM)"
   ]
  },
  {
   "cell_type": "code",
   "execution_count": 60,
   "metadata": {},
   "outputs": [
    {
     "data": {
      "image/png": "[encoded data removed]",
      "text/plain": [
       "<Figure size 432x288 with 1 Axes>"
      ]
     },
     "metadata": {
      "needs_background": "light"
     },
     "output_type": "display_data"
    }
   ],
   "source": [
    "fig1, ax1 = plt.subplots()\n",
    "Data2 = [cvscoreSVM, cvscoreRegr, cvscoreRanFor, cvscoreGBM]\n",
    "ax1.set_title('Среднее качество моделей')\n",
    "ax1.boxplot(Data2)\n",
    "plt.show()"
   ]
  },
  {
   "cell_type": "code",
   "execution_count": 64,
   "metadata": {},
   "outputs": [
    {
     "name": "stderr",
     "output_type": "stream",
     "text": [
      "C:\\ProgramData\\Anaconda3\\lib\\site-packages\\sklearn\\model_selection\\_split.py:667: UserWarning: The least populated class in y has only 1 members, which is less than n_splits=20.\n",
      "  % (min_groups, self.n_splits)), UserWarning)\n"
     ]
    },
    {
     "name": "stdout",
     "output_type": "stream",
     "text": [
      "1.2750000000000022e-05\n"
     ]
    }
   ],
   "source": [
    "DispSVM = np.var(cross_val_score(modelSVM, X_test, y_test, cv=20))\n",
    "print(DispSVM)"
   ]
  },
  {
   "cell_type": "code",
   "execution_count": 55,
   "metadata": {},
   "outputs": [
    {
     "name": "stdout",
     "output_type": "stream",
     "text": [
      "0.1355782888201209\n"
     ]
    }
   ],
   "source": [
    "DispRegr = np.var(cross_val_score(modelRegr, X_test, y_test, cv=20))\n",
    "print(DispRegr)"
   ]
  },
  {
   "cell_type": "code",
   "execution_count": 56,
   "metadata": {},
   "outputs": [
    {
     "name": "stderr",
     "output_type": "stream",
     "text": [
      "C:\\ProgramData\\Anaconda3\\lib\\site-packages\\sklearn\\model_selection\\_split.py:667: UserWarning: The least populated class in y has only 1 members, which is less than n_splits=20.\n",
      "  % (min_groups, self.n_splits)), UserWarning)\n"
     ]
    },
    {
     "name": "stdout",
     "output_type": "stream",
     "text": [
      "1.2750000000000022e-05\n"
     ]
    }
   ],
   "source": [
    "DispRanFor = np.var(cross_val_score(modelRanFor, X_test, y_test, cv=20))\n",
    "print(DispRanFor)"
   ]
  },
  {
   "cell_type": "code",
   "execution_count": 57,
   "metadata": {},
   "outputs": [
    {
     "name": "stdout",
     "output_type": "stream",
     "text": [
      "0.22641322486238008\n"
     ]
    }
   ],
   "source": [
    "DispGBM = np.var(cross_val_score(modelGBM, X_test, y_test, cv=20))\n",
    "print(DispGBM)"
   ]
  },
  {
   "cell_type": "code",
   "execution_count": 65,
   "metadata": {},
   "outputs": [
    {
     "data": {
      "image/png": "[encoded data removed]",
      "text/plain": [
       "<Figure size 432x288 with 1 Axes>"
      ]
     },
     "metadata": {
      "needs_background": "light"
     },
     "output_type": "display_data"
    }
   ],
   "source": [
    "fig2, ax2 = plt.subplots()\n",
    "Data3 = [DispSVM, DispRegr, DispRanFor, DispGBM]\n",
    "ax1.set_title('Оценка дисперсии')\n",
    "ax1.boxplot(Data3)\n",
    "plt.show()"
   ]
  },
  {
   "cell_type": "code",
   "execution_count": null,
   "metadata": {},
   "outputs": [],
   "source": []
  }
 ],
 "metadata": {
  "kernelspec": {
   "display_name": "Python 3",
   "language": "python",
   "name": "python3"
  },
  "language_info": {
   "codemirror_mode": {
    "name": "ipython",
    "version": 3
   },
   "file_extension": ".py",
   "mimetype": "text/x-python",
   "name": "python",
   "nbconvert_exporter": "python",
   "pygments_lexer": "ipython3",
   "version": "3.7.6"
  }
 },
 "nbformat": 4,
 "nbformat_minor": 4
}
