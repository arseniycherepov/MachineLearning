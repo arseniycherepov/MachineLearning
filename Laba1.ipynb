{
 "cells": [
  {
   "cell_type": "code",
   "execution_count": 1,
   "metadata": {},
   "outputs": [],
   "source": [
    "#Черепов Арсений Би-17-2\n",
    "#ссылка на репозиторий GitHub\n",
    "#https://github.com/arseniycherepov/MachineLearning\n",
    "#Подключаем библиотеки\n",
    "import pandas as pd\n",
    "import numpy as np\n",
    "from datetime import datetime\n",
    "from sklearn.model_selection import train_test_split\n",
    "from sklearn.linear_model import LogisticRegression\n",
    "from sklearn.metrics import classification_report\n",
    "from sklearn.neighbors import KNeighborsClassifier"
   ]
  },
  {
   "cell_type": "code",
   "execution_count": 2,
   "metadata": {},
   "outputs": [],
   "source": [
    "#Считываем данные с файлов\n",
    "transactions = pd.read_csv('casc-resto.csv', sep=';', parse_dates = ['RKDate'], decimal=',')\n",
    "clients = pd.read_csv('CASC_Constant.csv', sep =',')"
   ]
  },
  {
   "cell_type": "code",
   "execution_count": 3,
   "metadata": {},
   "outputs": [],
   "source": [
    "#Выполняем очистку и подготовку данных к анализу\n",
    "transactions.dropna()\n",
    "transactions.drop_duplicates(keep=False, inplace=True)\n",
    "clients.dropna()\n",
    "clients.drop_duplicates(keep=False, inplace=True)\n",
    "clients['Sex'] = clients['Sex'].astype('category').cat.codes\n",
    "clients['Age'] = clients['Age'].apply(\n",
    "    lambda x: int(clients['Age'].mean()) if x > 100 else x)"
   ]
  },
  {
   "cell_type": "code",
   "execution_count": 4,
   "metadata": {},
   "outputs": [],
   "source": [
    "#Присваиваем стартовую и конечную дату переменным\n",
    "date1 = datetime(2017, 7, 1)\n",
    "date2 = datetime(2017, 12, 31)"
   ]
  },
  {
   "cell_type": "code",
   "execution_count": 5,
   "metadata": {},
   "outputs": [],
   "source": [
    "#Для каждого клиента определим, совершал ли он визит в период между 2017-07-01 и 2017-12-31 включительно\n",
    "def GetY(clients):\n",
    "    return len(clients.loc[(clients['RKDate'] >= date1) & (clients['RKDate'] <= date2)]) > 0\n",
    "\n",
    "#Расчитаем количество дней до последнего визита клиента перед зафиксированной датой 2017-07-01.\n",
    "def Recency(clients):    \n",
    "    OrdersBefore = clients.loc[clients['RKDate'] < date1]\n",
    "    LastOrder = OrdersBefore['RKDate'].max()\n",
    "    return pd.Timedelta(date1 - LastOrder).days\n",
    "\n",
    "#Определим среднюю частоту походов клиентов на дату 2017-07-01.\n",
    "def Frequency(clients):\n",
    "    OrdersBefore = clients.loc[clients['RKDate'] < date1]\n",
    "    return OrdersBefore.groupby([OrdersBefore['RKDate'].dt.year,\n",
    "                                 OrdersBefore['RKDate'].dt.month]).size().mean()\n",
    "\n",
    "#Рассчитаем средний чек клиента по всем покупкам до 2017-07-01.\n",
    "def MonetaryValue(clients):\n",
    "    OrdersBefore = clients.loc[clients['RKDate'] < date1]\n",
    "    return OrdersBefore['SummAfterPointsUsage'].mean()\n",
    "\n",
    "#Расчитаем функции  \n",
    "def RunFunctions(clients):\n",
    "    result = [{\n",
    "        'Y': GetY(clients),\n",
    "        'Recency': Recency(clients),\n",
    "        'Frequency': Frequency(clients),\n",
    "        'MonetaryValue': MonetaryValue(clients)\n",
    "    }]\n",
    "    return pd.DataFrame(data = result)\n"
   ]
  },
  {
   "cell_type": "code",
   "execution_count": null,
   "metadata": {},
   "outputs": [],
   "source": [
    "#Вызовем итоговую функцию и притянем данные из второй таблицы\n",
    "ClientResult = transactions.groupby(by='CustomerID').apply(lambda temp: RunFunctions(temp))\n",
    "ClientResult.dropna()\n",
    "ClientResult = ClientResult.join(clients[['CustomerId', 'Age', 'Sex']].set_index('CustomerId'), on = ['CustomerID'], how='right')"
   ]
  },
  {
   "cell_type": "code",
   "execution_count": null,
   "metadata": {},
   "outputs": [],
   "source": [
    "#Выделим зависимую переменную\n",
    "y = ClientResult['Y']\n",
    "X = ClientResult.drop('Y', axis=1)\n",
    "#Разделим данные на обучающую и тестовую выборку в соотношении 80 на 20\n",
    "X_train, X_test, y_train, y_test = train_test_split(X, y, random_state=25, test_size=0.2)\n",
    "#Обучим модель логистической регрессии на обучающей выборке.\n",
    "Regression = LogisticRegression(random_state = 25, solver='lbfgs', max_iter=120)\n",
    "Regression.fit(X_train, y_train)\n",
    "#Предскажем вероятность прихода на тестовой выборке.\n",
    "Prediction = Regression.predict(X_test)"
   ]
  },
  {
   "cell_type": "code",
   "execution_count": null,
   "metadata": {},
   "outputs": [],
   "source": [
    "#Посчитаем метрики Precision и Recall на основании предсказаний на тестовой выборке и истинных значений зависимой переменной Y\n",
    "print(classification_report(y_test, y_predict))"
   ]
  }
 ],
 "metadata": {
  "kernelspec": {
   "display_name": "Python 3",
   "language": "python",
   "name": "python3"
  },
  "language_info": {
   "codemirror_mode": {
    "name": "ipython",
    "version": 3
   },
   "file_extension": ".py",
   "mimetype": "text/x-python",
   "name": "python",
   "nbconvert_exporter": "python",
   "pygments_lexer": "ipython3",
   "version": "3.7.6"
  }
 },
 "nbformat": 4,
 "nbformat_minor": 4
}
